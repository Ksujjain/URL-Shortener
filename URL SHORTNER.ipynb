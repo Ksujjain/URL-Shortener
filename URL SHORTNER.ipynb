{
 "cells": [
  {
   "cell_type": "code",
   "execution_count": null,
   "id": "3962fe46",
   "metadata": {},
   "outputs": [],
   "source": [
    "pip install Flask"
   ]
  },
  {
   "cell_type": "code",
   "execution_count": null,
   "id": "577bacd2",
   "metadata": {},
   "outputs": [],
   "source": [
    "pip install pyshorteners"
   ]
  },
  {
   "cell_type": "code",
   "execution_count": 3,
   "id": "d8e03767",
   "metadata": {},
   "outputs": [
    {
     "name": "stdout",
     "output_type": "stream",
     "text": [
      "Enter the long URL to shorten: https://chat.openai.com/c/de28be30-72ac-4009-9c30-63a5c96fe29a\n",
      "Shortened URL: https://tinyurl.com/ysccp63b\n"
     ]
    }
   ],
   "source": [
    "import pyshorteners\n",
    "\n",
    "def shorten_url(url):\n",
    "    try:\n",
    "        s = pyshorteners.Shortener()\n",
    "        shortened_url = s.tinyurl.short(url)\n",
    "        return shortened_url\n",
    "    except Exception as e:\n",
    "        print(f\"An error occurred: {str(e)}\")\n",
    "        return None\n",
    "\n",
    "def main():\n",
    "    long_url = input(\"Enter the long URL to shorten: \")\n",
    "    shortened_url = shorten_url(long_url)\n",
    "    \n",
    "    if shortened_url:\n",
    "        print(f\"Shortened URL: {shortened_url}\")\n",
    "\n",
    "if __name__ == \"__main__\":\n",
    "    main()\n"
   ]
  },
  {
   "cell_type": "raw",
   "id": "be880ca1",
   "metadata": {},
   "source": []
  }
 ],
 "metadata": {
  "kernelspec": {
   "display_name": "Python 3 (ipykernel)",
   "language": "python",
   "name": "python3"
  },
  "language_info": {
   "codemirror_mode": {
    "name": "ipython",
    "version": 3
   },
   "file_extension": ".py",
   "mimetype": "text/x-python",
   "name": "python",
   "nbconvert_exporter": "python",
   "pygments_lexer": "ipython3",
   "version": "3.11.4"
  }
 },
 "nbformat": 4,
 "nbformat_minor": 5
}
